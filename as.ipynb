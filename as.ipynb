{
 "cells": [
  {
   "cell_type": "code",
   "execution_count": 5,
   "metadata": {},
   "outputs": [
    {
     "name": "stdout",
     "output_type": "stream",
     "text": [
      "toplam= 0\n"
     ]
    }
   ],
   "source": [
    "toplam=0\n",
    "sayaç=0\n",
    "\n",
    "while sayaç >20:\n",
    "    sayaç=sayaç+1\n",
    "    toplam = toplam+ sayaç\n",
    "print(\"toplam=\",toplam)    "
   ]
  },
  {
   "cell_type": "code",
   "execution_count": 8,
   "metadata": {},
   "outputs": [
    {
     "name": "stdout",
     "output_type": "stream",
     "text": [
      "kilo*boy= 1632\n"
     ]
    }
   ],
   "source": [
    "boy=int(input(\"boyunuzu cm cinsinden yaziniz\"))\n",
    "kilo=int(input(\"kilonuzu kg cinsinden giriniz \"))\n",
    "if boy> 0:\n",
    "    kcb=(boy)*(kilo)\n",
    "    print(\"kilo*boy=\",  kcb)\n",
    "\n",
    "else:\n",
    "    print(\"yanliş cevap verdiniz\")\n",
    "\n"
   ]
  },
  {
   "cell_type": "code",
   "execution_count": null,
   "metadata": {},
   "outputs": [
    {
     "name": "stdout",
     "output_type": "stream",
     "text": [
      "my name is ff and my age5.\n",
      "<class 'str'>\n"
     ]
    }
   ],
   "source": [
    "\"\"\"mon premier commentaire en pythons\n",
    "est ce etsis un peut faciles\n",
    "et je vous conseille egalement \"\"\"\n",
    "\n",
    "nom=input(\"entrer votre nom\")\n",
    "age=input(\"entrer votre age\")\n",
    "\n",
    "\n",
    "\n",
    "\n",
    "print(\"my name is \" + nom + \" and \"+ \"my age\" + age + \".\")\n",
    "print(type(nom))"
   ]
  },
  {
   "cell_type": "code",
   "execution_count": 9,
   "metadata": {},
   "outputs": [
    {
     "name": "stdout",
     "output_type": "stream",
     "text": [
      "\n",
      "Vous vous appelez 2002 et votre âge est 8\n",
      "Vous vous appellerez 2002 l'année prochaine ll avec 9 ans.\n",
      "tu es mineur\n",
      "\n",
      "Vous vous appelez raza et votre âge est 54\n",
      "Vous vous appellerez raza l'année prochaine ll avec 55 ans.\n",
      "tu es majeur\n"
     ]
    }
   ],
   "source": [
    "def demander_age():\n",
    "    age_int = 0\n",
    "    while age_int == 0:\n",
    "        age_str = input(\"Quel est votre âge ? \")\n",
    "        try:\n",
    "            age_int = int(age_str)\n",
    "        except ValueError:  # Il faut préciser l'exception\n",
    "            print(\"Erreur : Veuillez entrer votre âge correctement.\")\n",
    "    return age_int\n",
    "\n",
    "\n",
    "def demander_nom():\n",
    "    reponse_nom = \"\"\n",
    "    while not reponse_nom:  # Vérifie que l'entrée n'est pas vide\n",
    "        reponse_nom = input(\"Veuillez entrer votre nom : \")\n",
    "    return reponse_nom\n",
    "\n",
    "\n",
    "def info_perso(nom, age):\n",
    "    print()\n",
    "    print(\"Vous vous appelez \" + nom + \" et votre âge est \" + str(age))\n",
    "    print(\"Vous vous appellerez \" + nom + \" l'année prochaine ll avec \" + str(age + 1) + \" ans.\")\n",
    "    \n",
    "    if age< 17:\n",
    "        print(\"tu es mineur\")\n",
    "    elif age==17:\n",
    "        print(\"tu es presque  majeur\")\n",
    "    elif age==18:\n",
    "        print(\"tu est juste majeur fecilation\")    \n",
    "    else :\n",
    "         print(\"tu es majeur\")\n",
    "\n",
    "\n",
    "nom1 = demander_nom()\n",
    "nom2 = demander_nom()\n",
    "\n",
    "age1 = demander_age()\n",
    "age2 = demander_age()\n",
    "\n",
    "info_perso(nom1, age1)\n",
    "info_perso(nom2, age2)\n",
    "\n"
   ]
  },
  {
   "cell_type": "code",
   "execution_count": 19,
   "metadata": {},
   "outputs": [
    {
     "name": "stdout",
     "output_type": "stream",
     "text": [
      "vous etes adulte \n"
     ]
    }
   ],
   "source": [
    "date_de_naissance=input(\"entrez votre age en annee \")\n",
    "\n",
    "age=2025-int(date_de_naissance)\n",
    "\n",
    "if age==0:\n",
    "    print(\"vous venez de naitre donc tu est un bébé\")\n",
    "elif age<17:  \n",
    "    print(\"vous etes adolescent\")\n",
    "elif age>17 and age<30:\n",
    "    print(\"vous etes en plein adolescence\")\n",
    "elif age>30 and age<50:\n",
    "            print(\"vous etes adulte \")\n",
    "elif age>50 :\n",
    "            print(\"vous etes vieux\")  \n",
    "else :\n",
    "      print(\"veuiller enter une bonne date \")          \n"
   ]
  }
 ],
 "metadata": {
  "kernelspec": {
   "display_name": "Python 3",
   "language": "python",
   "name": "python3"
  },
  "language_info": {
   "codemirror_mode": {
    "name": "ipython",
    "version": 3
   },
   "file_extension": ".py",
   "mimetype": "text/x-python",
   "name": "python",
   "nbconvert_exporter": "python",
   "pygments_lexer": "ipython3",
   "version": "3.12.0"
  }
 },
 "nbformat": 4,
 "nbformat_minor": 2
}
