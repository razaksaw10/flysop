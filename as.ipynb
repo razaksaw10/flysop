{
 "cells": [
  {
   "cell_type": "code",
   "execution_count": 1,
   "metadata": {},
   "outputs": [
    {
     "data": {
      "text/plain": [
       "int"
      ]
     },
     "execution_count": 1,
     "metadata": {},
     "output_type": "execute_result"
    }
   ],
   "source": [
    "a=12\n",
    "type(a)"
   ]
  },
  {
   "cell_type": "code",
   "execution_count": 11,
   "metadata": {},
   "outputs": [],
   "source": [
    "toplam=0\n",
    "sayaç=0\n",
    "\n",
    "while sayaç >20:\n",
    "    sayaç=sayaç+1\n",
    "    toplam = toplam+ sayaç\n",
    "    "
   ]
  },
  {
   "cell_type": "code",
   "execution_count": 12,
   "metadata": {},
   "outputs": [
    {
     "name": "stdout",
     "output_type": "stream",
     "text": [
      "kilo*boy= 400\n"
     ]
    }
   ],
   "source": [
    "boy=int(input(\"boyunuzu cm cinsinden yaziniz\"))\n",
    "kilo=int(input(\"kilonuzu kg cinsinden giriniz \"))\n",
    "if boy> 0:\n",
    "    kcb=(boy)*(kilo)\n",
    "    print(\"kilo*boy=\",  kcb)\n",
    "\n",
    "else:\n",
    "    print(\"yanliş cevap verdiniz\")\n",
    "\n"
   ]
  },
  {
   "cell_type": "code",
   "execution_count": 14,
   "metadata": {},
   "outputs": [
    {
     "name": "stdout",
     "output_type": "stream",
     "text": [
      "1 1\n",
      "2 3\n",
      "3 6\n",
      "4 10\n",
      "5 15\n",
      "5\n"
     ]
    }
   ],
   "source": [
    "s=0\n",
    "i=0\n",
    "while s<=10:\n",
    "    i=i+1\n",
    "    s=s+i\n",
    "    print(i,s)\n",
    "print(i)\n",
    "    "
   ]
  },
  {
   "cell_type": "code",
   "execution_count": 18,
   "metadata": {},
   "outputs": [
    {
     "name": "stdout",
     "output_type": "stream",
     "text": [
      "0 2\n",
      "2 4\n",
      "6 6\n",
      "12 8\n",
      "20 10\n",
      "30 12\n",
      "12\n"
     ]
    }
   ],
   "source": [
    "toplam=0\n",
    "sayac=0\n",
    "N=10\n",
    "\n",
    "while sayac<=10:\n",
    "    toplam=toplam+sayac\n",
    "    sayac=sayac+2\n",
    "    print(toplam,sayac)\n",
    "print(sayac)\n",
    "    "
   ]
  },
  {
   "cell_type": "code",
   "execution_count": 19,
   "metadata": {},
   "outputs": [
    {
     "data": {
      "text/plain": [
       "True"
      ]
     },
     "execution_count": 19,
     "metadata": {},
     "output_type": "execute_result"
    }
   ],
   "source": [
    "3==3"
   ]
  },
  {
   "cell_type": "code",
   "execution_count": 20,
   "metadata": {},
   "outputs": [
    {
     "data": {
      "text/plain": [
       "False"
      ]
     },
     "execution_count": 20,
     "metadata": {},
     "output_type": "execute_result"
    }
   ],
   "source": [
    "3!=3"
   ]
  },
  {
   "cell_type": "code",
   "execution_count": 24,
   "metadata": {},
   "outputs": [
    {
     "name": "stdout",
     "output_type": "stream",
     "text": [
      "5\n",
      "8\n",
      "11\n",
      "14\n",
      "17\n"
     ]
    }
   ],
   "source": [
    "for sayi in range(5,20,3):\n",
    "    print(sayi)"
   ]
  },
  {
   "cell_type": "code",
   "execution_count": 32,
   "metadata": {},
   "outputs": [
    {
     "name": "stdout",
     "output_type": "stream",
     "text": [
      "abdoul razak\n",
      "sawadogo\n"
     ]
    }
   ],
   "source": [
    "ad=\"abdoul razak\"\n",
    "soyad=\"sawadogo\"\n",
    "print(ad, end=\"\\n\")\n",
    "print(soyad)"
   ]
  },
  {
   "cell_type": "code",
   "execution_count": 29,
   "metadata": {},
   "outputs": [
    {
     "name": "stdout",
     "output_type": "stream",
     "text": [
      "ali\n",
      "veli\n"
     ]
    }
   ],
   "source": [
    "s=\"ali\"+\"\\n\"+\"veli\"\n",
    "print(s)"
   ]
  },
  {
   "cell_type": "code",
   "execution_count": 34,
   "metadata": {},
   "outputs": [
    {
     "name": "stdout",
     "output_type": "stream",
     "text": [
      "#\n",
      "#\n",
      "#\n",
      "#\n",
      "#\n"
     ]
    }
   ],
   "source": [
    "for i in range(5):\n",
    "    print(\"#\",end=\"\\n\")"
   ]
  },
  {
   "cell_type": "code",
   "execution_count": 39,
   "metadata": {},
   "outputs": [
    {
     "name": "stdout",
     "output_type": "stream",
     "text": [
      "30\n",
      "abd\n"
     ]
    }
   ],
   "source": [
    "print(a)\n",
    "print(ad[0:3])\n"
   ]
  },
  {
   "cell_type": "code",
   "execution_count": 42,
   "metadata": {},
   "outputs": [
    {
     "name": "stdout",
     "output_type": "stream",
     "text": [
      "0:0\n",
      "2:4\n",
      "4:16\n"
     ]
    }
   ],
   "source": [
    "for i in range(5):\n",
    "    if i %2==1:\n",
    "        continue\n",
    "    print(i, end=\":\")\n",
    "    print(i*i)"
   ]
  },
  {
   "cell_type": "code",
   "execution_count": 51,
   "metadata": {},
   "outputs": [
    {
     "name": "stdout",
     "output_type": "stream",
     "text": [
      "0:0:3\n",
      "2:4:5\n",
      "4:16:7\n"
     ]
    }
   ],
   "source": [
    "for i in range(5):\n",
    "    if i %2==0:\n",
    "        print(i ,end=\":\")\n",
    "        print(i*i ,end=\":\")\n",
    "        print(3+i )"
   ]
  },
  {
   "cell_type": "code",
   "execution_count": 60,
   "metadata": {},
   "outputs": [
    {
     "name": "stdout",
     "output_type": "stream",
     "text": [
      "0\n",
      "döngü bitmiştir\n",
      "2\n",
      "4\n",
      "6\n",
      "döngü bitmiştir\n",
      "8\n",
      "10\n",
      "12\n",
      "14\n",
      "döngü bitmiştir\n"
     ]
    }
   ],
   "source": [
    "for i in range (15):\n",
    "    if i%2 ==0:\n",
    "      print (i)\n",
    "    if i%7==0:\n",
    "       print(\"döngü bitmiştir\") \n",
    "       \n"
   ]
  },
  {
   "cell_type": "code",
   "execution_count": null,
   "metadata": {},
   "outputs": [],
   "source": [
    "toplam=0\n",
    "sayi_miktari=0\n",
    "for i in range(10):\n",
    "    sayi=int(input(\"bir sayi giriniz\"))\n",
    "    if sayi<0:\n",
    "       \n",
    "     toplam+=sayi\n",
    "     sayi_miktari+=1\n",
    "\n",
    "if sayi_miktari>0:\n",
    "    ortalama=toplam/sayi_miktari\n",
    "    print(ortalama)\n",
    "\n"
   ]
  },
  {
   "cell_type": "code",
   "execution_count": 74,
   "metadata": {},
   "outputs": [
    {
     "name": "stdout",
     "output_type": "stream",
     "text": [
      "0\n",
      "1\n",
      "2\n",
      "3\n",
      "4\n",
      "5\n",
      "6\n",
      "7\n",
      "8\n",
      "9\n"
     ]
    }
   ],
   "source": [
    "i=0\n",
    "while i<10:\n",
    "    print(i)\n",
    "    i+=1\n"
   ]
  },
  {
   "cell_type": "code",
   "execution_count": null,
   "metadata": {},
   "outputs": [],
   "source": [
    "n=int(input(\"bir sayi giriniz\"))\n",
    "x=0\n",
    "for sayac in range(1,n):\n",
    "    y=int(input(\"bir sayi giriniz\"))\n",
    "    if y<0 and y>x:\n",
    "        x=y\n",
    "    print(x)    "
   ]
  },
  {
   "cell_type": "code",
   "execution_count": 81,
   "metadata": {},
   "outputs": [
    {
     "name": "stdout",
     "output_type": "stream",
     "text": [
      "0 0\n",
      "0 1\n",
      "0 2\n",
      "0 3\n",
      "1 0\n",
      "1 1\n",
      "1 2\n",
      "1 3\n",
      "2 0\n",
      "2 1\n",
      "2 2\n",
      "2 3\n"
     ]
    }
   ],
   "source": [
    "for i in range(3):\n",
    "     for j in range(4):\n",
    "        print(i,j)"
   ]
  },
  {
   "cell_type": "code",
   "execution_count": 87,
   "metadata": {},
   "outputs": [
    {
     "name": "stdout",
     "output_type": "stream",
     "text": [
      "# # # # # # # # # # # #  \n",
      "# # # # # # # # # # # #  \n",
      "# # # # # # # # # # # #  \n",
      "# # # # # # # # # # # #  \n",
      "# # # # # # # # # # # #  \n"
     ]
    }
   ],
   "source": [
    "g=12\n",
    "y=5\n",
    "\n",
    "\n",
    "for i in range(y):\n",
    "    for j in range(g):\n",
    "        print(\"#\", end=\" \")\n",
    "    print(\" \")    "
   ]
  },
  {
   "cell_type": "code",
   "execution_count": 96,
   "metadata": {},
   "outputs": [
    {
     "name": "stdout",
     "output_type": "stream",
     "text": [
      "# # # # # # # # # # # # # # # # # # # # \n",
      "#                                     #  \n",
      "#                                     #  \n",
      "#                                     #  \n",
      "#                                     #  \n",
      "#                                     #  \n",
      "#                                     #  \n",
      "#                                     #  \n",
      "#                                     #  \n",
      "# # # # # # # # # # # # # # # # # # # # \n"
     ]
    }
   ],
   "source": [
    "g=20\n",
    "y=10\n",
    "end_symbol=\" \"\n",
    "\n",
    "\n",
    "for i in range(y):\n",
    "    if i==0 or i==y-1:\n",
    "        for j in range(g):\n",
    "            print(\"#\", end=\" \") \n",
    "        print(\"\")    \n",
    "    else:\n",
    "        for j in range(g):\n",
    "            if j==0 or j==g-1:\n",
    "                print(\"#\", end=\" \")\n",
    "            else:\n",
    "                print(\" \", end=\" \")    \n",
    "        print(\" \")"
   ]
  },
  {
   "cell_type": "code",
   "execution_count": 98,
   "metadata": {},
   "outputs": [
    {
     "name": "stdout",
     "output_type": "stream",
     "text": [
      "# # # # # # # # # # # # # # # # # # # # \n",
      "# # # # # # # # # # # # # # # # # # # # \n"
     ]
    }
   ],
   "source": [
    "g=20\n",
    "y=10\n",
    "end_symbol=\" \"\n",
    "for i in range(y):\n",
    "    if i==0 or i==y-1:\n",
    "        for j in range(g):\n",
    "            print(\"#\", end=\" \") \n",
    "        print(\"\")    "
   ]
  },
  {
   "cell_type": "code",
   "execution_count": 100,
   "metadata": {},
   "outputs": [
    {
     "name": "stdout",
     "output_type": "stream",
     "text": [
      "a\n"
     ]
    }
   ],
   "source": [
    "ad=\"razak\"\n",
    "print(ad[1:2])"
   ]
  },
  {
   "cell_type": "code",
   "execution_count": 108,
   "metadata": {},
   "outputs": [
    {
     "name": "stdout",
     "output_type": "stream",
     "text": [
      "[3, 4, 2, 1]\n"
     ]
    }
   ],
   "source": [
    "sayılar=[3,4,2,1]\n",
    "print(sayılar)"
   ]
  },
  {
   "cell_type": "code",
   "execution_count": 112,
   "metadata": {},
   "outputs": [
    {
     "data": {
      "text/plain": [
       "2"
      ]
     },
     "execution_count": 112,
     "metadata": {},
     "output_type": "execute_result"
    }
   ],
   "source": [
    "sayılar[0]\n",
    "sayılar[2]"
   ]
  },
  {
   "cell_type": "code",
   "execution_count": 117,
   "metadata": {},
   "outputs": [
    {
     "data": {
      "text/plain": [
       "[1]"
      ]
     },
     "execution_count": 117,
     "metadata": {},
     "output_type": "execute_result"
    }
   ],
   "source": [
    "sayılar[-1:]"
   ]
  },
  {
   "cell_type": "code",
   "execution_count": 119,
   "metadata": {},
   "outputs": [
    {
     "name": "stdout",
     "output_type": "stream",
     "text": [
      "[3, 4, 2, 1, 78]\n"
     ]
    }
   ],
   "source": [
    "sayılar.append(78)\n",
    "print(sayılar)"
   ]
  },
  {
   "cell_type": "code",
   "execution_count": 122,
   "metadata": {},
   "outputs": [
    {
     "name": "stdout",
     "output_type": "stream",
     "text": [
      "[0, 1, 2, 3, 4]\n"
     ]
    }
   ],
   "source": [
    "s=\" \"\n",
    "listem=[]\n",
    "for i in range(5):\n",
    "    listem.append(i)\n",
    "print(listem)"
   ]
  },
  {
   "cell_type": "code",
   "execution_count": 1,
   "metadata": {},
   "outputs": [],
   "source": [
    "\n",
    "sayılar=[]\n",
    "while True:\n",
    "    sayi=int(input(\"bir sayı giriniz\"))\n",
    "    if sayi<0:\n",
    "        break\n",
    "    sayılar.append(sayi)\n",
    "\n",
    "toplam=0\n",
    "for i in range(len(sayılar)):\n",
    "    toplam+=sayılar[i]\n",
    "    print(sayılar[i],end=\" \")\n",
    "\n",
    "\n",
    "\n",
    "\n",
    "ortalam=toplam/len(sayılar)\n",
    "\n",
    "print(\"sayıların ortalaması\", ortalama)\n",
    "\n",
    "    "
   ]
  }
 ],
 "metadata": {
  "kernelspec": {
   "display_name": "Python 3",
   "language": "python",
   "name": "python3"
  },
  "language_info": {
   "codemirror_mode": {
    "name": "ipython",
    "version": 3
   },
   "file_extension": ".py",
   "mimetype": "text/x-python",
   "name": "python",
   "nbconvert_exporter": "python",
   "pygments_lexer": "ipython3",
   "version": "3.12.0"
  }
 },
 "nbformat": 4,
 "nbformat_minor": 2
}
