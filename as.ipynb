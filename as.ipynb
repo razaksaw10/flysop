{
 "cells": [
  {
   "cell_type": "code",
   "execution_count": 5,
   "metadata": {},
   "outputs": [
    {
     "name": "stdout",
     "output_type": "stream",
     "text": [
      "toplam= 0\n"
     ]
    }
   ],
   "source": [
    "toplam=0\n",
    "sayaç=0\n",
    "\n",
    "while sayaç >20:\n",
    "    sayaç=sayaç+1\n",
    "    toplam = toplam+ sayaç\n",
    "print(\"toplam=\",toplam)    "
   ]
  },
  {
   "cell_type": "code",
   "execution_count": 2,
   "metadata": {},
   "outputs": [
    {
     "name": "stdout",
     "output_type": "stream",
     "text": [
      "kilo*boy= 96\n"
     ]
    }
   ],
   "source": [
    "boy=int(input(\"boyunuzu cm cinsinden yaziniz\"))\n",
    "kilo=int(input(\"kilonuzu kg cinsinden giriniz \"))\n",
    "if boy> 0:\n",
    "    kcb=(boy)*(kilo)\n",
    "    print(\"kilo*boy=\",  kcb)\n",
    "\n",
    "else:\n",
    "    print(\"yanliş cevap verdiniz\")\n",
    "\n"
   ]
  },
  {
   "cell_type": "code",
   "execution_count": null,
   "metadata": {},
   "outputs": [],
   "source": []
  },
  {
   "cell_type": "code",
   "execution_count": null,
   "metadata": {},
   "outputs": [],
   "source": []
  },
  {
   "cell_type": "code",
   "execution_count": null,
   "metadata": {},
   "outputs": [
    {
     "name": "stdout",
     "output_type": "stream",
     "text": [
      "my name is raza and my age32.\n",
      "<class 'str'>\n"
     ]
    }
   ],
   "source": [
    "\"\"\"mon premier commentaire en pythons\n",
    "est ce etsis un peut faciles\n",
    "et je vous conseille egalement \"\"\"\n",
    "\n",
    "nom=input(\"entrer votre nom\")\n",
    "age=input(\"entrer votre age\")\n",
    "\n",
    "\n",
    "\n",
    "\n",
    "print(\"my name is \" + nom + \" and \"+ \"my age\" + age + \".\")\n",
    "print(type(nom))"
   ]
  },
  {
   "cell_type": "code",
   "execution_count": 37,
   "metadata": {},
   "outputs": [
    {
     "name": "stdout",
     "output_type": "stream",
     "text": [
      "mot de passe correct TOTO\n"
     ]
    }
   ],
   "source": [
    "mot_de_passe=\"\"\n",
    "while not mot_de_passe==\"TOTO\":     \n",
    "      mot_de_passe=input(\"Please enter votre mot de passe\")\n",
    "print(\"mot de passe correct \"+mot_de_passe )   \n"
   ]
  },
  {
   "cell_type": "code",
   "execution_count": null,
   "metadata": {},
   "outputs": [
    {
     "name": "stdout",
     "output_type": "stream",
     "text": [
      "vous vous appeler razaet votre age  est 32\n",
      "vous vous appeler razaet votre age a l annee prochaine est 33\n"
     ]
    }
   ],
   "source": [
    "nom=input(\"entrer votre nom\")\n",
    "\n",
    "age_prochain=0\n",
    "\n",
    "while age_prochain==0:\n",
    "    age=input(\"quel est votre age ?\")\n",
    "    try:\n",
    "        age_prochain=int (age)+1\n",
    "    except:\n",
    "        print(\"erreur veiller entrer votrer votre age correct\")\n",
    "        \n",
    "else:\n",
    "    print(\"vous vous appeler \" + nom + \" et votre age  est \"+str(age))\n",
    "    print(\"vous vous appeler \"+ nom + \"et votre age a l annee prochaine est \"+str(age_prochain))            "
   ]
  }
 ],
 "metadata": {
  "kernelspec": {
   "display_name": "Python 3",
   "language": "python",
   "name": "python3"
  },
  "language_info": {
   "codemirror_mode": {
    "name": "ipython",
    "version": 3
   },
   "file_extension": ".py",
   "mimetype": "text/x-python",
   "name": "python",
   "nbconvert_exporter": "python",
   "pygments_lexer": "ipython3",
   "version": "3.12.0"
  }
 },
 "nbformat": 4,
 "nbformat_minor": 2
}
